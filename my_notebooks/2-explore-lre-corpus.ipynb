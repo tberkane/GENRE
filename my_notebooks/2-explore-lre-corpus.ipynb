{
 "cells": [
  {
   "cell_type": "code",
   "execution_count": 7,
   "id": "initial_id",
   "metadata": {
    "ExecuteTime": {
     "end_time": "2024-03-07T06:41:59.887947Z",
     "start_time": "2024-03-07T06:41:59.881809Z"
    },
    "collapsed": true,
    "jupyter": {
     "outputs_hidden": true
    }
   },
   "outputs": [],
   "source": [
    "import pandas as pd\n",
    "from pandas import json_normalize"
   ]
  },
  {
   "cell_type": "code",
   "execution_count": 8,
   "id": "fd3d4c5b58867dba",
   "metadata": {
    "ExecuteTime": {
     "end_time": "2024-03-07T06:42:00.291137Z",
     "start_time": "2024-03-07T06:42:00.183917Z"
    },
    "collapsed": false,
    "jupyter": {
     "outputs_hidden": false
    }
   },
   "outputs": [],
   "source": [
    "df = pd.read_json(\"../data/LRE_corpus/LRE_corpus-0.1/corpora.json\", lines=True)"
   ]
  },
  {
   "cell_type": "code",
   "execution_count": 9,
   "id": "97b8aa9706d90156",
   "metadata": {
    "ExecuteTime": {
     "end_time": "2024-03-07T06:42:00.478838Z",
     "start_time": "2024-03-07T06:42:00.467038Z"
    },
    "collapsed": false,
    "jupyter": {
     "outputs_hidden": false
    }
   },
   "outputs": [
    {
     "data": {
      "text/html": [
       "<div>\n",
       "<style scoped>\n",
       "    .dataframe tbody tr th:only-of-type {\n",
       "        vertical-align: middle;\n",
       "    }\n",
       "\n",
       "    .dataframe tbody tr th {\n",
       "        vertical-align: top;\n",
       "    }\n",
       "\n",
       "    .dataframe thead th {\n",
       "        text-align: right;\n",
       "    }\n",
       "</style>\n",
       "<table border=\"1\" class=\"dataframe\">\n",
       "  <thead>\n",
       "    <tr style=\"text-align: right;\">\n",
       "      <th></th>\n",
       "      <th>id_str</th>\n",
       "      <th>lre_annotation</th>\n",
       "    </tr>\n",
       "  </thead>\n",
       "  <tbody>\n",
       "    <tr>\n",
       "      <th>0</th>\n",
       "      <td>527760967652749312</td>\n",
       "      <td>[]</td>\n",
       "    </tr>\n",
       "    <tr>\n",
       "      <th>1</th>\n",
       "      <td>527007061029056512</td>\n",
       "      <td>[]</td>\n",
       "    </tr>\n",
       "    <tr>\n",
       "      <th>2</th>\n",
       "      <td>528154012315426816</td>\n",
       "      <td>[]</td>\n",
       "    </tr>\n",
       "    <tr>\n",
       "      <th>3</th>\n",
       "      <td>528220003691024384</td>\n",
       "      <td>[]</td>\n",
       "    </tr>\n",
       "    <tr>\n",
       "      <th>4</th>\n",
       "      <td>526282301366226944</td>\n",
       "      <td>[]</td>\n",
       "    </tr>\n",
       "    <tr>\n",
       "      <th>...</th>\n",
       "      <td>...</td>\n",
       "      <td>...</td>\n",
       "    </tr>\n",
       "    <tr>\n",
       "      <th>9995</th>\n",
       "      <td>507167181210017792</td>\n",
       "      <td>[]</td>\n",
       "    </tr>\n",
       "    <tr>\n",
       "      <th>9996</th>\n",
       "      <td>529628482158878720</td>\n",
       "      <td>[]</td>\n",
       "    </tr>\n",
       "    <tr>\n",
       "      <th>9997</th>\n",
       "      <td>528209131945984000</td>\n",
       "      <td>[]</td>\n",
       "    </tr>\n",
       "    <tr>\n",
       "      <th>9998</th>\n",
       "      <td>521454722234851328</td>\n",
       "      <td>[]</td>\n",
       "    </tr>\n",
       "    <tr>\n",
       "      <th>9999</th>\n",
       "      <td>527799380653273088</td>\n",
       "      <td>[]</td>\n",
       "    </tr>\n",
       "  </tbody>\n",
       "</table>\n",
       "<p>10000 rows × 2 columns</p>\n",
       "</div>"
      ],
      "text/plain": [
       "                  id_str lre_annotation\n",
       "0     527760967652749312             []\n",
       "1     527007061029056512             []\n",
       "2     528154012315426816             []\n",
       "3     528220003691024384             []\n",
       "4     526282301366226944             []\n",
       "...                  ...            ...\n",
       "9995  507167181210017792             []\n",
       "9996  529628482158878720             []\n",
       "9997  528209131945984000             []\n",
       "9998  521454722234851328             []\n",
       "9999  527799380653273088             []\n",
       "\n",
       "[10000 rows x 2 columns]"
      ]
     },
     "execution_count": 9,
     "metadata": {},
     "output_type": "execute_result"
    }
   ],
   "source": [
    "df"
   ]
  },
  {
   "cell_type": "code",
   "execution_count": 10,
   "id": "ace7e4b7de5bbc30",
   "metadata": {
    "ExecuteTime": {
     "end_time": "2024-03-07T06:42:00.816733Z",
     "start_time": "2024-03-07T06:42:00.807233Z"
    },
    "collapsed": false,
    "jupyter": {
     "outputs_hidden": false
    }
   },
   "outputs": [
    {
     "data": {
      "text/plain": [
       "793.0"
      ]
     },
     "execution_count": 10,
     "metadata": {},
     "output_type": "execute_result"
    }
   ],
   "source": [
    "# Proportion of datapoints where lre_annotation column is an empty list\n",
    "df.lre_annotation.apply(lambda x: len(x) != 0).mean() * len(df)"
   ]
  },
  {
   "cell_type": "code",
   "execution_count": 11,
   "id": "c27f81dcb1460665",
   "metadata": {
    "ExecuteTime": {
     "end_time": "2024-03-07T06:42:02.005358Z",
     "start_time": "2024-03-07T06:42:01.235336Z"
    },
    "collapsed": false,
    "jupyter": {
     "outputs_hidden": false
    }
   },
   "outputs": [],
   "source": [
    "def custom_function(value):\n",
    "    if not value:\n",
    "        return None\n",
    "    # print(value)\n",
    "    a = json_normalize(value)\n",
    "    # print(a)\n",
    "    a[\"entities\"] = a[\"entities\"].apply(lambda x: x[0][\"geometry\"][\"coordinates\"] if x else None)\n",
    "    a[\"entities\"] = a[\"entities\"].apply(lambda x: tuple(x) if x and x[0] else None)\n",
    "    a = a.rename(columns={\"entities\": \"coordinates\"})\n",
    "    return a\n",
    "\n",
    "\n",
    "result = df['lre_annotation'].apply(custom_function)\n"
   ]
  },
  {
   "cell_type": "code",
   "execution_count": 12,
   "id": "e2b2c02ef597f0a3",
   "metadata": {
    "ExecuteTime": {
     "end_time": "2024-03-07T06:42:02.092227Z",
     "start_time": "2024-03-07T06:42:02.006893Z"
    },
    "collapsed": false,
    "jupyter": {
     "outputs_hidden": false
    }
   },
   "outputs": [
    {
     "data": {
      "text/html": [
       "<div>\n",
       "<style scoped>\n",
       "    .dataframe tbody tr th:only-of-type {\n",
       "        vertical-align: middle;\n",
       "    }\n",
       "\n",
       "    .dataframe tbody tr th {\n",
       "        vertical-align: top;\n",
       "    }\n",
       "\n",
       "    .dataframe thead th {\n",
       "        text-align: right;\n",
       "    }\n",
       "</style>\n",
       "<table border=\"1\" class=\"dataframe\">\n",
       "  <thead>\n",
       "    <tr style=\"text-align: right;\">\n",
       "      <th></th>\n",
       "      <th>id_str</th>\n",
       "      <th>start</th>\n",
       "      <th>end</th>\n",
       "      <th>surface</th>\n",
       "      <th>note</th>\n",
       "      <th>entityClass</th>\n",
       "      <th>coordinates</th>\n",
       "    </tr>\n",
       "  </thead>\n",
       "  <tbody>\n",
       "    <tr>\n",
       "      <th>0</th>\n",
       "      <td>525988539553439744</td>\n",
       "      <td>19</td>\n",
       "      <td>24</td>\n",
       "      <td>ファミレス</td>\n",
       "      <td></td>\n",
       "      <td>generic</td>\n",
       "      <td>None</td>\n",
       "    </tr>\n",
       "    <tr>\n",
       "      <th>1</th>\n",
       "      <td>527412572522160128</td>\n",
       "      <td>6</td>\n",
       "      <td>11</td>\n",
       "      <td>MOVIX</td>\n",
       "      <td></td>\n",
       "      <td>facility</td>\n",
       "      <td>None</td>\n",
       "    </tr>\n",
       "    <tr>\n",
       "      <th>2</th>\n",
       "      <td>527412572522160128</td>\n",
       "      <td>24</td>\n",
       "      <td>26</td>\n",
       "      <td>利府</td>\n",
       "      <td></td>\n",
       "      <td>location</td>\n",
       "      <td>(140.97684, 38.33084)</td>\n",
       "    </tr>\n",
       "    <tr>\n",
       "      <th>3</th>\n",
       "      <td>527412572522160128</td>\n",
       "      <td>34</td>\n",
       "      <td>39</td>\n",
       "      <td>MOVIX</td>\n",
       "      <td></td>\n",
       "      <td>facility</td>\n",
       "      <td>None</td>\n",
       "    </tr>\n",
       "    <tr>\n",
       "      <th>4</th>\n",
       "      <td>527992658216488960</td>\n",
       "      <td>19</td>\n",
       "      <td>21</td>\n",
       "      <td>お店</td>\n",
       "      <td>複数の特定不能店舗</td>\n",
       "      <td>facility-UNSP</td>\n",
       "      <td>None</td>\n",
       "    </tr>\n",
       "    <tr>\n",
       "      <th>...</th>\n",
       "      <td>...</td>\n",
       "      <td>...</td>\n",
       "      <td>...</td>\n",
       "      <td>...</td>\n",
       "      <td>...</td>\n",
       "      <td>...</td>\n",
       "      <td>...</td>\n",
       "    </tr>\n",
       "    <tr>\n",
       "      <th>1039</th>\n",
       "      <td>521152818023907328</td>\n",
       "      <td>22</td>\n",
       "      <td>23</td>\n",
       "      <td>泉</td>\n",
       "      <td></td>\n",
       "      <td>location-UNSP</td>\n",
       "      <td>None</td>\n",
       "    </tr>\n",
       "    <tr>\n",
       "      <th>1040</th>\n",
       "      <td>522292131923120128</td>\n",
       "      <td>0</td>\n",
       "      <td>3</td>\n",
       "      <td>アキバ</td>\n",
       "      <td></td>\n",
       "      <td>facility</td>\n",
       "      <td>None</td>\n",
       "    </tr>\n",
       "    <tr>\n",
       "      <th>1041</th>\n",
       "      <td>529470205865373696</td>\n",
       "      <td>7</td>\n",
       "      <td>12</td>\n",
       "      <td>ラーメン屋</td>\n",
       "      <td></td>\n",
       "      <td>facility-UNSP</td>\n",
       "      <td>None</td>\n",
       "    </tr>\n",
       "    <tr>\n",
       "      <th>1042</th>\n",
       "      <td>515384767269711872</td>\n",
       "      <td>33</td>\n",
       "      <td>36</td>\n",
       "      <td>森ビル</td>\n",
       "      <td></td>\n",
       "      <td>facility</td>\n",
       "      <td>None</td>\n",
       "    </tr>\n",
       "    <tr>\n",
       "      <th>1043</th>\n",
       "      <td>528115824289017856</td>\n",
       "      <td>5</td>\n",
       "      <td>8</td>\n",
       "      <td>南大高</td>\n",
       "      <td></td>\n",
       "      <td>facility</td>\n",
       "      <td>None</td>\n",
       "    </tr>\n",
       "  </tbody>\n",
       "</table>\n",
       "<p>1044 rows × 7 columns</p>\n",
       "</div>"
      ],
      "text/plain": [
       "                  id_str  start  end surface       note    entityClass  \\\n",
       "0     525988539553439744     19   24   ファミレス                   generic   \n",
       "1     527412572522160128      6   11   MOVIX                  facility   \n",
       "2     527412572522160128     24   26      利府                  location   \n",
       "3     527412572522160128     34   39   MOVIX                  facility   \n",
       "4     527992658216488960     19   21      お店  複数の特定不能店舗  facility-UNSP   \n",
       "...                  ...    ...  ...     ...        ...            ...   \n",
       "1039  521152818023907328     22   23       泉             location-UNSP   \n",
       "1040  522292131923120128      0    3     アキバ                  facility   \n",
       "1041  529470205865373696      7   12   ラーメン屋             facility-UNSP   \n",
       "1042  515384767269711872     33   36     森ビル                  facility   \n",
       "1043  528115824289017856      5    8     南大高                  facility   \n",
       "\n",
       "                coordinates  \n",
       "0                      None  \n",
       "1                      None  \n",
       "2     (140.97684, 38.33084)  \n",
       "3                      None  \n",
       "4                      None  \n",
       "...                     ...  \n",
       "1039                   None  \n",
       "1040                   None  \n",
       "1041                   None  \n",
       "1042                   None  \n",
       "1043                   None  \n",
       "\n",
       "[1044 rows x 7 columns]"
      ]
     },
     "execution_count": 12,
     "metadata": {},
     "output_type": "execute_result"
    }
   ],
   "source": [
    "# Concatenate the resulting DataFrames\n",
    "result = pd.concat([result[i] for i in range(len(result))], axis=0).reset_index(drop=True)\n",
    "ids = [[id_s]*count for id_s, count in zip(df[\"id_str\"], df[\"lre_annotation\"].apply(len))]\n",
    "result.insert(0, \"id_str\", sum(ids, []))\n",
    "result"
   ]
  },
  {
   "cell_type": "code",
   "execution_count": 11,
   "id": "58227f58dc95dc8c",
   "metadata": {
    "collapsed": false,
    "jupyter": {
     "outputs_hidden": false
    }
   },
   "outputs": [
    {
     "data": {
      "text/plain": [
       "299.0"
      ]
     },
     "execution_count": 11,
     "metadata": {},
     "output_type": "execute_result"
    }
   ],
   "source": [
    "# proportion of results with non-null coordinates\n",
    "result.coordinates.apply(lambda x: x is not None).mean() * len(result)"
   ]
  },
  {
   "cell_type": "code",
   "execution_count": 12,
   "id": "9f2990c05e406adc",
   "metadata": {
    "ExecuteTime": {
     "end_time": "2024-03-07T06:15:13.446028Z",
     "start_time": "2024-03-07T06:15:13.441981Z"
    },
    "collapsed": false,
    "jupyter": {
     "outputs_hidden": false
    }
   },
   "outputs": [
    {
     "data": {
      "text/plain": [
       "entityClass\n",
       "location         298\n",
       "facility-UNSP    273\n",
       "facility         203\n",
       "location-OOG      94\n",
       "generic           65\n",
       "facility-OOG      41\n",
       "rail              25\n",
       "fiction           24\n",
       "location-UNSP     14\n",
       "other              4\n",
       "road               3\n",
       "Name: count, dtype: int64"
      ]
     },
     "execution_count": 12,
     "metadata": {},
     "output_type": "execute_result"
    }
   ],
   "source": [
    "result[\"entityClass\"].value_counts()"
   ]
  },
  {
   "cell_type": "code",
   "execution_count": 14,
   "id": "ed1fd45df12ea202",
   "metadata": {
    "ExecuteTime": {
     "end_time": "2024-03-07T06:16:27.353602Z",
     "start_time": "2024-03-07T06:16:27.350312Z"
    },
    "collapsed": false,
    "jupyter": {
     "outputs_hidden": false
    }
   },
   "outputs": [],
   "source": [
    "locationEntities = result[result[\"entityClass\"] == \"location\"]"
   ]
  },
  {
   "cell_type": "code",
   "execution_count": 15,
   "id": "4ab43c207a699fe6",
   "metadata": {
    "ExecuteTime": {
     "end_time": "2024-03-07T06:16:55.772484Z",
     "start_time": "2024-03-07T06:16:55.769049Z"
    },
    "collapsed": false,
    "jupyter": {
     "outputs_hidden": false
    }
   },
   "outputs": [
    {
     "data": {
      "text/plain": [
       "298.0"
      ]
     },
     "execution_count": 15,
     "metadata": {},
     "output_type": "execute_result"
    }
   ],
   "source": [
    "locationEntities.coordinates.apply(lambda x: x is not None).mean() * len(locationEntities)"
   ]
  },
  {
   "cell_type": "markdown",
   "id": "2d6364249f97d47f",
   "metadata": {
    "collapsed": false,
    "jupyter": {
     "outputs_hidden": false
    }
   },
   "source": [
    "# Retrieve tweets"
   ]
  },
  {
   "cell_type": "code",
   "execution_count": 1,
   "id": "f8b1cd01960d7ac6",
   "metadata": {
    "ExecuteTime": {
     "end_time": "2024-03-07T07:34:02.809396Z",
     "start_time": "2024-03-07T07:34:02.161955Z"
    },
    "collapsed": false,
    "jupyter": {
     "outputs_hidden": false
    }
   },
   "outputs": [
    {
     "name": "stdout",
     "output_type": "stream",
     "text": [
      "403\n"
     ]
    },
    {
     "ename": "Exception",
     "evalue": "Request returned an error: 403 {\"client_id\":\"28491470\",\"detail\":\"When authenticating requests to the Twitter API v2 endpoints, you must use keys and tokens from a Twitter developer App that is attached to a Project. You can create a project via the developer portal.\",\"registration_url\":\"https://developer.twitter.com/en/docs/projects/overview\",\"title\":\"Client Forbidden\",\"required_enrollment\":\"Appropriate Level of API Access\",\"reason\":\"client-not-enrolled\",\"type\":\"https://api.twitter.com/2/problems/client-forbidden\"}",
     "output_type": "error",
     "traceback": [
      "\u001b[0;31m---------------------------------------------------------------------------\u001b[0m",
      "\u001b[0;31mException\u001b[0m                                 Traceback (most recent call last)",
      "Cell \u001b[0;32mIn[1], line 46\u001b[0m\n\u001b[1;32m     42\u001b[0m     \u001b[38;5;28;01mreturn\u001b[39;00m response\u001b[38;5;241m.\u001b[39mjson()\n\u001b[1;32m     45\u001b[0m url \u001b[38;5;241m=\u001b[39m create_url()\n\u001b[0;32m---> 46\u001b[0m json_response \u001b[38;5;241m=\u001b[39m \u001b[43mconnect_to_endpoint\u001b[49m\u001b[43m(\u001b[49m\u001b[43murl\u001b[49m\u001b[43m)\u001b[49m\n\u001b[1;32m     47\u001b[0m \u001b[38;5;28mprint\u001b[39m(json\u001b[38;5;241m.\u001b[39mdumps(json_response, indent\u001b[38;5;241m=\u001b[39m\u001b[38;5;241m4\u001b[39m, sort_keys\u001b[38;5;241m=\u001b[39m\u001b[38;5;28;01mTrue\u001b[39;00m))\n",
      "Cell \u001b[0;32mIn[1], line 37\u001b[0m, in \u001b[0;36mconnect_to_endpoint\u001b[0;34m(url)\u001b[0m\n\u001b[1;32m     35\u001b[0m \u001b[38;5;28mprint\u001b[39m(response\u001b[38;5;241m.\u001b[39mstatus_code)\n\u001b[1;32m     36\u001b[0m \u001b[38;5;28;01mif\u001b[39;00m response\u001b[38;5;241m.\u001b[39mstatus_code \u001b[38;5;241m!=\u001b[39m \u001b[38;5;241m200\u001b[39m:\n\u001b[0;32m---> 37\u001b[0m     \u001b[38;5;28;01mraise\u001b[39;00m \u001b[38;5;167;01mException\u001b[39;00m(\n\u001b[1;32m     38\u001b[0m         \u001b[38;5;124m\"\u001b[39m\u001b[38;5;124mRequest returned an error: \u001b[39m\u001b[38;5;132;01m{}\u001b[39;00m\u001b[38;5;124m \u001b[39m\u001b[38;5;132;01m{}\u001b[39;00m\u001b[38;5;124m\"\u001b[39m\u001b[38;5;241m.\u001b[39mformat(\n\u001b[1;32m     39\u001b[0m             response\u001b[38;5;241m.\u001b[39mstatus_code, response\u001b[38;5;241m.\u001b[39mtext\n\u001b[1;32m     40\u001b[0m         )\n\u001b[1;32m     41\u001b[0m     )\n\u001b[1;32m     42\u001b[0m \u001b[38;5;28;01mreturn\u001b[39;00m response\u001b[38;5;241m.\u001b[39mjson()\n",
      "\u001b[0;31mException\u001b[0m: Request returned an error: 403 {\"client_id\":\"28491470\",\"detail\":\"When authenticating requests to the Twitter API v2 endpoints, you must use keys and tokens from a Twitter developer App that is attached to a Project. You can create a project via the developer portal.\",\"registration_url\":\"https://developer.twitter.com/en/docs/projects/overview\",\"title\":\"Client Forbidden\",\"required_enrollment\":\"Appropriate Level of API Access\",\"reason\":\"client-not-enrolled\",\"type\":\"https://api.twitter.com/2/problems/client-forbidden\"}"
     ]
    }
   ],
   "source": [
    "import requests\n",
    "import os\n",
    "import json\n",
    "\n",
    "bearer_token = \"AAAAAAAAAAAAAAAAAAAAAM6%2BsgEAAAAAPRQOwv6bh4sIQSA1yFrSAHUTPwQ%3DIM4EBDYcompU0clp6dSfMRXQyLbdy4NC2NFeldkEpKxHEDRrzq\"\n",
    "\n",
    "def create_url():\n",
    "    tweet_fields = \"tweet.fields=lang,author_id\"\n",
    "    # Tweet fields are adjustable.\n",
    "    # Options include:\n",
    "    # attachments, author_id, context_annotations,\n",
    "    # conversation_id, created_at, entities, geo, id,\n",
    "    # in_reply_to_user_id, lang, non_public_metrics, organic_metrics,\n",
    "    # possibly_sensitive, promoted_metrics, public_metrics, referenced_tweets,\n",
    "    # source, text, and withheld\n",
    "    ids = \"527412572522160128\"\n",
    "    # You can adjust ids to include a single Tweets.\n",
    "    # Or you can add to up to 100 comma-separated IDs\n",
    "    url = \"https://api.twitter.com/2/tweets?{}&{}\".format(ids, tweet_fields)\n",
    "    return url\n",
    "\n",
    "\n",
    "def bearer_oauth(r):\n",
    "    \"\"\"\n",
    "    Method required by bearer token authentication.\n",
    "    \"\"\"\n",
    "\n",
    "    r.headers[\"Authorization\"] = f\"Bearer {bearer_token}\"\n",
    "    r.headers[\"User-Agent\"] = \"v2TweetLookupPython\"\n",
    "    return r\n",
    "\n",
    "\n",
    "def connect_to_endpoint(url):\n",
    "    response = requests.request(\"GET\", url, auth=bearer_oauth)\n",
    "    print(response.status_code)\n",
    "    if response.status_code != 200:\n",
    "        raise Exception(\n",
    "            \"Request returned an error: {} {}\".format(\n",
    "                response.status_code, response.text\n",
    "            )\n",
    "        )\n",
    "    return response.json()\n",
    "\n",
    "\n",
    "url = create_url()\n",
    "json_response = connect_to_endpoint(url)\n",
    "print(json.dumps(json_response, indent=4, sort_keys=True))\n"
   ]
  },
  {
   "cell_type": "code",
   "execution_count": null,
   "id": "d7727edfa65a8c12",
   "metadata": {
    "collapsed": false,
    "jupyter": {
     "outputs_hidden": false
    }
   },
   "outputs": [],
   "source": []
  }
 ],
 "metadata": {
  "kernelspec": {
   "display_name": "Python 3 (ipykernel)",
   "language": "python",
   "name": "python3"
  },
  "language_info": {
   "codemirror_mode": {
    "name": "ipython",
    "version": 3
   },
   "file_extension": ".py",
   "mimetype": "text/x-python",
   "name": "python",
   "nbconvert_exporter": "python",
   "pygments_lexer": "ipython3",
   "version": "3.9.18"
  }
 },
 "nbformat": 4,
 "nbformat_minor": 5
}
