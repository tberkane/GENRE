{
 "cells": [
  {
   "cell_type": "code",
   "execution_count": 2,
   "id": "initial_id",
   "metadata": {
    "collapsed": true,
    "ExecuteTime": {
     "end_time": "2024-03-07T02:39:59.301723Z",
     "start_time": "2024-03-07T02:39:58.735241Z"
    }
   },
   "outputs": [],
   "source": [
    "import pandas as pd"
   ]
  },
  {
   "cell_type": "code",
   "outputs": [],
   "source": [
    "df = pd.read_json(\"../data/LRE_corpus/LRE_corpus-0.1/corpora.json\", lines=True)"
   ],
   "metadata": {
    "collapsed": false,
    "ExecuteTime": {
     "end_time": "2024-03-07T02:41:53.307960Z",
     "start_time": "2024-03-07T02:41:53.146152Z"
    }
   },
   "id": "fd3d4c5b58867dba",
   "execution_count": 4
  },
  {
   "cell_type": "code",
   "outputs": [
    {
     "data": {
      "text/plain": "               id_str lre_annotation\n0  527760967652749312             []\n1  527007061029056512             []\n2  528154012315426816             []\n3  528220003691024384             []\n4  526282301366226944             []",
      "text/html": "<div>\n<style scoped>\n    .dataframe tbody tr th:only-of-type {\n        vertical-align: middle;\n    }\n\n    .dataframe tbody tr th {\n        vertical-align: top;\n    }\n\n    .dataframe thead th {\n        text-align: right;\n    }\n</style>\n<table border=\"1\" class=\"dataframe\">\n  <thead>\n    <tr style=\"text-align: right;\">\n      <th></th>\n      <th>id_str</th>\n      <th>lre_annotation</th>\n    </tr>\n  </thead>\n  <tbody>\n    <tr>\n      <th>0</th>\n      <td>527760967652749312</td>\n      <td>[]</td>\n    </tr>\n    <tr>\n      <th>1</th>\n      <td>527007061029056512</td>\n      <td>[]</td>\n    </tr>\n    <tr>\n      <th>2</th>\n      <td>528154012315426816</td>\n      <td>[]</td>\n    </tr>\n    <tr>\n      <th>3</th>\n      <td>528220003691024384</td>\n      <td>[]</td>\n    </tr>\n    <tr>\n      <th>4</th>\n      <td>526282301366226944</td>\n      <td>[]</td>\n    </tr>\n  </tbody>\n</table>\n</div>"
     },
     "execution_count": 5,
     "metadata": {},
     "output_type": "execute_result"
    }
   ],
   "source": [
    "df.head()"
   ],
   "metadata": {
    "collapsed": false,
    "ExecuteTime": {
     "end_time": "2024-03-07T02:41:56.261415Z",
     "start_time": "2024-03-07T02:41:56.244712Z"
    }
   },
   "id": "97b8aa9706d90156",
   "execution_count": 5
  },
  {
   "cell_type": "code",
   "outputs": [
    {
     "data": {
      "text/plain": "793.0"
     },
     "execution_count": 9,
     "metadata": {},
     "output_type": "execute_result"
    }
   ],
   "source": [
    "# Proportion of datapoints where lre_annotation column is an empty list\n",
    "df.lre_annotation.apply(lambda x: len(x) != 0).mean() * len(df)"
   ],
   "metadata": {
    "collapsed": false,
    "ExecuteTime": {
     "end_time": "2024-03-07T02:43:30.295479Z",
     "start_time": "2024-03-07T02:43:30.285157Z"
    }
   },
   "id": "ace7e4b7de5bbc30",
   "execution_count": 9
  },
  {
   "cell_type": "code",
   "outputs": [],
   "source": [],
   "metadata": {
    "collapsed": false
   },
   "id": "6af88813a99695fa"
  }
 ],
 "metadata": {
  "kernelspec": {
   "display_name": "Python 3",
   "language": "python",
   "name": "python3"
  },
  "language_info": {
   "codemirror_mode": {
    "name": "ipython",
    "version": 2
   },
   "file_extension": ".py",
   "mimetype": "text/x-python",
   "name": "python",
   "nbconvert_exporter": "python",
   "pygments_lexer": "ipython2",
   "version": "2.7.6"
  }
 },
 "nbformat": 4,
 "nbformat_minor": 5
}
