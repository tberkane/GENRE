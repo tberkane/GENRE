{
 "cells": [
  {
   "cell_type": "code",
   "execution_count": 1,
   "id": "initial_id",
   "metadata": {
    "collapsed": true,
    "ExecuteTime": {
     "end_time": "2024-03-07T05:15:10.884583Z",
     "start_time": "2024-03-07T05:15:10.386695Z"
    }
   },
   "outputs": [],
   "source": [
    "import pandas as pd"
   ]
  },
  {
   "cell_type": "code",
   "outputs": [],
   "source": [
    "df = pd.read_json(\"../data/LRE_corpus/LRE_corpus-0.1/corpora.json\", lines=True)"
   ],
   "metadata": {
    "collapsed": false,
    "ExecuteTime": {
     "end_time": "2024-03-07T05:15:10.965738Z",
     "start_time": "2024-03-07T05:15:10.886818Z"
    }
   },
   "id": "fd3d4c5b58867dba",
   "execution_count": 2
  },
  {
   "cell_type": "code",
   "outputs": [
    {
     "data": {
      "text/plain": "                  id_str lre_annotation\n0     527760967652749312             []\n1     527007061029056512             []\n2     528154012315426816             []\n3     528220003691024384             []\n4     526282301366226944             []\n...                  ...            ...\n9995  507167181210017792             []\n9996  529628482158878720             []\n9997  528209131945984000             []\n9998  521454722234851328             []\n9999  527799380653273088             []\n\n[10000 rows x 2 columns]",
      "text/html": "<div>\n<style scoped>\n    .dataframe tbody tr th:only-of-type {\n        vertical-align: middle;\n    }\n\n    .dataframe tbody tr th {\n        vertical-align: top;\n    }\n\n    .dataframe thead th {\n        text-align: right;\n    }\n</style>\n<table border=\"1\" class=\"dataframe\">\n  <thead>\n    <tr style=\"text-align: right;\">\n      <th></th>\n      <th>id_str</th>\n      <th>lre_annotation</th>\n    </tr>\n  </thead>\n  <tbody>\n    <tr>\n      <th>0</th>\n      <td>527760967652749312</td>\n      <td>[]</td>\n    </tr>\n    <tr>\n      <th>1</th>\n      <td>527007061029056512</td>\n      <td>[]</td>\n    </tr>\n    <tr>\n      <th>2</th>\n      <td>528154012315426816</td>\n      <td>[]</td>\n    </tr>\n    <tr>\n      <th>3</th>\n      <td>528220003691024384</td>\n      <td>[]</td>\n    </tr>\n    <tr>\n      <th>4</th>\n      <td>526282301366226944</td>\n      <td>[]</td>\n    </tr>\n    <tr>\n      <th>...</th>\n      <td>...</td>\n      <td>...</td>\n    </tr>\n    <tr>\n      <th>9995</th>\n      <td>507167181210017792</td>\n      <td>[]</td>\n    </tr>\n    <tr>\n      <th>9996</th>\n      <td>529628482158878720</td>\n      <td>[]</td>\n    </tr>\n    <tr>\n      <th>9997</th>\n      <td>528209131945984000</td>\n      <td>[]</td>\n    </tr>\n    <tr>\n      <th>9998</th>\n      <td>521454722234851328</td>\n      <td>[]</td>\n    </tr>\n    <tr>\n      <th>9999</th>\n      <td>527799380653273088</td>\n      <td>[]</td>\n    </tr>\n  </tbody>\n</table>\n<p>10000 rows × 2 columns</p>\n</div>"
     },
     "execution_count": 3,
     "metadata": {},
     "output_type": "execute_result"
    }
   ],
   "source": [
    "df"
   ],
   "metadata": {
    "collapsed": false,
    "ExecuteTime": {
     "end_time": "2024-03-07T05:15:12.226197Z",
     "start_time": "2024-03-07T05:15:12.207807Z"
    }
   },
   "id": "97b8aa9706d90156",
   "execution_count": 3
  },
  {
   "cell_type": "code",
   "outputs": [
    {
     "data": {
      "text/plain": "793.0"
     },
     "execution_count": 4,
     "metadata": {},
     "output_type": "execute_result"
    }
   ],
   "source": [
    "# Proportion of datapoints where lre_annotation column is an empty list\n",
    "df.lre_annotation.apply(lambda x: len(x) != 0).mean() * len(df)"
   ],
   "metadata": {
    "collapsed": false,
    "ExecuteTime": {
     "end_time": "2024-03-07T05:15:17.813147Z",
     "start_time": "2024-03-07T05:15:17.807627Z"
    }
   },
   "id": "ace7e4b7de5bbc30",
   "execution_count": 4
  },
  {
   "cell_type": "code",
   "outputs": [],
   "source": [
    "from pandas import json_normalize"
   ],
   "metadata": {
    "collapsed": false,
    "ExecuteTime": {
     "end_time": "2024-03-07T05:15:18.032654Z",
     "start_time": "2024-03-07T05:15:18.028668Z"
    }
   },
   "id": "b6adfefcf8b0e7db",
   "execution_count": 5
  },
  {
   "cell_type": "code",
   "outputs": [
    {
     "data": {
      "text/plain": "[{'start': 6,\n  'end': 11,\n  'surface': 'MOVIX',\n  'note': '',\n  'entityClass': 'facility',\n  'entities': [{'properties': {'url': 'http://loco.yahoo.co.jp/place/649c171a7fdb49261e4700d1501b93b8c022f067/'},\n    'geometry': {'coordinates': [None, None], 'type': 'Point'},\n    'type': 'Feature'}]},\n {'start': 24,\n  'end': 26,\n  'surface': '利府',\n  'note': '',\n  'entityClass': 'location',\n  'entities': [{'properties': {'altnames': ['利府', '利府町'],\n     'note': '',\n     'address': '宮城郡利府町利府字新並松４',\n     'prefix': '',\n     'suffix': '町/',\n     'ne_class': '市区町村/町',\n     'address_level': 3,\n     'code': 'lasdec:044067/jisx0402:04406',\n     'entry_id': 2310,\n     'hypernym': '宮城県/宮城郡',\n     'body': '利府',\n     'surface': '利府町'},\n    'geometry': {'coordinates': [140.97684, 38.33084], 'type': 'Point'},\n    'type': 'Feature'}]},\n {'start': 34,\n  'end': 39,\n  'surface': 'MOVIX',\n  'note': '',\n  'entityClass': 'facility',\n  'entities': [{'properties': {'url': 'http://loco.yahoo.co.jp/place/649c171a7fdb49261e4700d1501b93b8c022f067/'},\n    'geometry': {'coordinates': [None, None], 'type': 'Point'},\n    'type': 'Feature'}]}]"
     },
     "execution_count": 6,
     "metadata": {},
     "output_type": "execute_result"
    }
   ],
   "source": [
    "df['lre_annotation'][38]"
   ],
   "metadata": {
    "collapsed": false,
    "ExecuteTime": {
     "end_time": "2024-03-07T05:16:00.891984Z",
     "start_time": "2024-03-07T05:16:00.884398Z"
    }
   },
   "id": "c69ad9a0e5890b86",
   "execution_count": 6
  },
  {
   "cell_type": "code",
   "outputs": [
    {
     "data": {
      "text/plain": "   start  end surface note entityClass  \\\n0      6   11   MOVIX         facility   \n1     24   26      利府         location   \n2     34   39   MOVIX         facility   \n\n                                            entities  \n0  [{'properties': {'url': 'http://loco.yahoo.co....  \n1  [{'properties': {'altnames': ['利府', '利府町'], 'n...  \n2  [{'properties': {'url': 'http://loco.yahoo.co....  ",
      "text/html": "<div>\n<style scoped>\n    .dataframe tbody tr th:only-of-type {\n        vertical-align: middle;\n    }\n\n    .dataframe tbody tr th {\n        vertical-align: top;\n    }\n\n    .dataframe thead th {\n        text-align: right;\n    }\n</style>\n<table border=\"1\" class=\"dataframe\">\n  <thead>\n    <tr style=\"text-align: right;\">\n      <th></th>\n      <th>start</th>\n      <th>end</th>\n      <th>surface</th>\n      <th>note</th>\n      <th>entityClass</th>\n      <th>entities</th>\n    </tr>\n  </thead>\n  <tbody>\n    <tr>\n      <th>0</th>\n      <td>6</td>\n      <td>11</td>\n      <td>MOVIX</td>\n      <td></td>\n      <td>facility</td>\n      <td>[{'properties': {'url': 'http://loco.yahoo.co....</td>\n    </tr>\n    <tr>\n      <th>1</th>\n      <td>24</td>\n      <td>26</td>\n      <td>利府</td>\n      <td></td>\n      <td>location</td>\n      <td>[{'properties': {'altnames': ['利府', '利府町'], 'n...</td>\n    </tr>\n    <tr>\n      <th>2</th>\n      <td>34</td>\n      <td>39</td>\n      <td>MOVIX</td>\n      <td></td>\n      <td>facility</td>\n      <td>[{'properties': {'url': 'http://loco.yahoo.co....</td>\n    </tr>\n  </tbody>\n</table>\n</div>"
     },
     "execution_count": 32,
     "metadata": {},
     "output_type": "execute_result"
    }
   ],
   "source": [
    "a = json_normalize(df['lre_annotation'][38])\n",
    "a"
   ],
   "metadata": {
    "collapsed": false,
    "ExecuteTime": {
     "end_time": "2024-03-07T04:31:37.955472Z",
     "start_time": "2024-03-07T04:31:37.935774Z"
    }
   },
   "id": "67971b433d5196ff",
   "execution_count": 32
  },
  {
   "cell_type": "code",
   "outputs": [],
   "source": [
    "a[\"entities\"] = a[\"entities\"].apply(lambda x: x[0][\"geometry\"][\"coordinates\"] if x else None)\n",
    "a[\"entities\"] = a[\"entities\"].apply(lambda x: tuple(x) if x[0] else None)\n",
    "a = a.rename(columns={\"entities\": \"coordinates\"})"
   ],
   "metadata": {
    "collapsed": false,
    "ExecuteTime": {
     "end_time": "2024-03-07T04:31:38.239123Z",
     "start_time": "2024-03-07T04:31:38.227892Z"
    }
   },
   "id": "2463b8739105477f",
   "execution_count": 33
  },
  {
   "cell_type": "code",
   "outputs": [
    {
     "data": {
      "text/plain": "   start  end surface note entityClass            coordinates\n0      6   11   MOVIX         facility                   None\n1     24   26      利府         location  (140.97684, 38.33084)\n2     34   39   MOVIX         facility                   None",
      "text/html": "<div>\n<style scoped>\n    .dataframe tbody tr th:only-of-type {\n        vertical-align: middle;\n    }\n\n    .dataframe tbody tr th {\n        vertical-align: top;\n    }\n\n    .dataframe thead th {\n        text-align: right;\n    }\n</style>\n<table border=\"1\" class=\"dataframe\">\n  <thead>\n    <tr style=\"text-align: right;\">\n      <th></th>\n      <th>start</th>\n      <th>end</th>\n      <th>surface</th>\n      <th>note</th>\n      <th>entityClass</th>\n      <th>coordinates</th>\n    </tr>\n  </thead>\n  <tbody>\n    <tr>\n      <th>0</th>\n      <td>6</td>\n      <td>11</td>\n      <td>MOVIX</td>\n      <td></td>\n      <td>facility</td>\n      <td>None</td>\n    </tr>\n    <tr>\n      <th>1</th>\n      <td>24</td>\n      <td>26</td>\n      <td>利府</td>\n      <td></td>\n      <td>location</td>\n      <td>(140.97684, 38.33084)</td>\n    </tr>\n    <tr>\n      <th>2</th>\n      <td>34</td>\n      <td>39</td>\n      <td>MOVIX</td>\n      <td></td>\n      <td>facility</td>\n      <td>None</td>\n    </tr>\n  </tbody>\n</table>\n</div>"
     },
     "execution_count": 34,
     "metadata": {},
     "output_type": "execute_result"
    }
   ],
   "source": [
    "a"
   ],
   "metadata": {
    "collapsed": false,
    "ExecuteTime": {
     "end_time": "2024-03-07T04:31:38.711946Z",
     "start_time": "2024-03-07T04:31:38.703549Z"
    }
   },
   "id": "aa267d3d0be27545",
   "execution_count": 34
  },
  {
   "cell_type": "code",
   "outputs": [
    {
     "ename": "KeyError",
     "evalue": "'entities'",
     "output_type": "error",
     "traceback": [
      "\u001B[0;31m---------------------------------------------------------------------------\u001B[0m",
      "\u001B[0;31mKeyError\u001B[0m                                  Traceback (most recent call last)",
      "Cell \u001B[0;32mIn[23], line 12\u001B[0m\n\u001B[1;32m      9\u001B[0m     a \u001B[38;5;241m=\u001B[39m a\u001B[38;5;241m.\u001B[39mrename(columns\u001B[38;5;241m=\u001B[39m{\u001B[38;5;124m\"\u001B[39m\u001B[38;5;124mentities\u001B[39m\u001B[38;5;124m\"\u001B[39m: \u001B[38;5;124m\"\u001B[39m\u001B[38;5;124mcoordinates\u001B[39m\u001B[38;5;124m\"\u001B[39m})\n\u001B[1;32m     10\u001B[0m     \u001B[38;5;28;01mreturn\u001B[39;00m a\n\u001B[0;32m---> 12\u001B[0m result \u001B[38;5;241m=\u001B[39m \u001B[43mdf\u001B[49m\u001B[43m[\u001B[49m\u001B[38;5;124;43m'\u001B[39;49m\u001B[38;5;124;43mlre_annotation\u001B[39;49m\u001B[38;5;124;43m'\u001B[39;49m\u001B[43m]\u001B[49m\u001B[38;5;241;43m.\u001B[39;49m\u001B[43mapply\u001B[49m\u001B[43m(\u001B[49m\u001B[43mcustom_function\u001B[49m\u001B[43m)\u001B[49m\n\u001B[1;32m     14\u001B[0m \u001B[38;5;66;03m# Concatenate the resulting DataFrames\u001B[39;00m\n\u001B[1;32m     15\u001B[0m result \u001B[38;5;241m=\u001B[39m pd\u001B[38;5;241m.\u001B[39mconcat([result[i] \u001B[38;5;28;01mfor\u001B[39;00m i \u001B[38;5;129;01min\u001B[39;00m \u001B[38;5;28mrange\u001B[39m(\u001B[38;5;28mlen\u001B[39m(result))], axis\u001B[38;5;241m=\u001B[39m\u001B[38;5;241m0\u001B[39m)\u001B[38;5;241m.\u001B[39mreset_index(drop\u001B[38;5;241m=\u001B[39m\u001B[38;5;28;01mTrue\u001B[39;00m)\n",
      "File \u001B[0;32m~/miniconda3/envs/geonlp/lib/python3.9/site-packages/pandas/core/series.py:4908\u001B[0m, in \u001B[0;36mSeries.apply\u001B[0;34m(self, func, convert_dtype, args, by_row, **kwargs)\u001B[0m\n\u001B[1;32m   4780\u001B[0m \u001B[38;5;28;01mdef\u001B[39;00m \u001B[38;5;21mapply\u001B[39m(\n\u001B[1;32m   4781\u001B[0m     \u001B[38;5;28mself\u001B[39m,\n\u001B[1;32m   4782\u001B[0m     func: AggFuncType,\n\u001B[0;32m   (...)\u001B[0m\n\u001B[1;32m   4787\u001B[0m     \u001B[38;5;241m*\u001B[39m\u001B[38;5;241m*\u001B[39mkwargs,\n\u001B[1;32m   4788\u001B[0m ) \u001B[38;5;241m-\u001B[39m\u001B[38;5;241m>\u001B[39m DataFrame \u001B[38;5;241m|\u001B[39m Series:\n\u001B[1;32m   4789\u001B[0m \u001B[38;5;250m    \u001B[39m\u001B[38;5;124;03m\"\"\"\u001B[39;00m\n\u001B[1;32m   4790\u001B[0m \u001B[38;5;124;03m    Invoke function on values of Series.\u001B[39;00m\n\u001B[1;32m   4791\u001B[0m \n\u001B[0;32m   (...)\u001B[0m\n\u001B[1;32m   4906\u001B[0m \u001B[38;5;124;03m    dtype: float64\u001B[39;00m\n\u001B[1;32m   4907\u001B[0m \u001B[38;5;124;03m    \"\"\"\u001B[39;00m\n\u001B[0;32m-> 4908\u001B[0m     \u001B[38;5;28;01mreturn\u001B[39;00m \u001B[43mSeriesApply\u001B[49m\u001B[43m(\u001B[49m\n\u001B[1;32m   4909\u001B[0m \u001B[43m        \u001B[49m\u001B[38;5;28;43mself\u001B[39;49m\u001B[43m,\u001B[49m\n\u001B[1;32m   4910\u001B[0m \u001B[43m        \u001B[49m\u001B[43mfunc\u001B[49m\u001B[43m,\u001B[49m\n\u001B[1;32m   4911\u001B[0m \u001B[43m        \u001B[49m\u001B[43mconvert_dtype\u001B[49m\u001B[38;5;241;43m=\u001B[39;49m\u001B[43mconvert_dtype\u001B[49m\u001B[43m,\u001B[49m\n\u001B[1;32m   4912\u001B[0m \u001B[43m        \u001B[49m\u001B[43mby_row\u001B[49m\u001B[38;5;241;43m=\u001B[39;49m\u001B[43mby_row\u001B[49m\u001B[43m,\u001B[49m\n\u001B[1;32m   4913\u001B[0m \u001B[43m        \u001B[49m\u001B[43margs\u001B[49m\u001B[38;5;241;43m=\u001B[39;49m\u001B[43margs\u001B[49m\u001B[43m,\u001B[49m\n\u001B[1;32m   4914\u001B[0m \u001B[43m        \u001B[49m\u001B[43mkwargs\u001B[49m\u001B[38;5;241;43m=\u001B[39;49m\u001B[43mkwargs\u001B[49m\u001B[43m,\u001B[49m\n\u001B[1;32m   4915\u001B[0m \u001B[43m    \u001B[49m\u001B[43m)\u001B[49m\u001B[38;5;241;43m.\u001B[39;49m\u001B[43mapply\u001B[49m\u001B[43m(\u001B[49m\u001B[43m)\u001B[49m\n",
      "File \u001B[0;32m~/miniconda3/envs/geonlp/lib/python3.9/site-packages/pandas/core/apply.py:1427\u001B[0m, in \u001B[0;36mSeriesApply.apply\u001B[0;34m(self)\u001B[0m\n\u001B[1;32m   1424\u001B[0m     \u001B[38;5;28;01mreturn\u001B[39;00m \u001B[38;5;28mself\u001B[39m\u001B[38;5;241m.\u001B[39mapply_compat()\n\u001B[1;32m   1426\u001B[0m \u001B[38;5;66;03m# self.func is Callable\u001B[39;00m\n\u001B[0;32m-> 1427\u001B[0m \u001B[38;5;28;01mreturn\u001B[39;00m \u001B[38;5;28;43mself\u001B[39;49m\u001B[38;5;241;43m.\u001B[39;49m\u001B[43mapply_standard\u001B[49m\u001B[43m(\u001B[49m\u001B[43m)\u001B[49m\n",
      "File \u001B[0;32m~/miniconda3/envs/geonlp/lib/python3.9/site-packages/pandas/core/apply.py:1507\u001B[0m, in \u001B[0;36mSeriesApply.apply_standard\u001B[0;34m(self)\u001B[0m\n\u001B[1;32m   1501\u001B[0m \u001B[38;5;66;03m# row-wise access\u001B[39;00m\n\u001B[1;32m   1502\u001B[0m \u001B[38;5;66;03m# apply doesn't have a `na_action` keyword and for backward compat reasons\u001B[39;00m\n\u001B[1;32m   1503\u001B[0m \u001B[38;5;66;03m# we need to give `na_action=\"ignore\"` for categorical data.\u001B[39;00m\n\u001B[1;32m   1504\u001B[0m \u001B[38;5;66;03m# TODO: remove the `na_action=\"ignore\"` when that default has been changed in\u001B[39;00m\n\u001B[1;32m   1505\u001B[0m \u001B[38;5;66;03m#  Categorical (GH51645).\u001B[39;00m\n\u001B[1;32m   1506\u001B[0m action \u001B[38;5;241m=\u001B[39m \u001B[38;5;124m\"\u001B[39m\u001B[38;5;124mignore\u001B[39m\u001B[38;5;124m\"\u001B[39m \u001B[38;5;28;01mif\u001B[39;00m \u001B[38;5;28misinstance\u001B[39m(obj\u001B[38;5;241m.\u001B[39mdtype, CategoricalDtype) \u001B[38;5;28;01melse\u001B[39;00m \u001B[38;5;28;01mNone\u001B[39;00m\n\u001B[0;32m-> 1507\u001B[0m mapped \u001B[38;5;241m=\u001B[39m \u001B[43mobj\u001B[49m\u001B[38;5;241;43m.\u001B[39;49m\u001B[43m_map_values\u001B[49m\u001B[43m(\u001B[49m\n\u001B[1;32m   1508\u001B[0m \u001B[43m    \u001B[49m\u001B[43mmapper\u001B[49m\u001B[38;5;241;43m=\u001B[39;49m\u001B[43mcurried\u001B[49m\u001B[43m,\u001B[49m\u001B[43m \u001B[49m\u001B[43mna_action\u001B[49m\u001B[38;5;241;43m=\u001B[39;49m\u001B[43maction\u001B[49m\u001B[43m,\u001B[49m\u001B[43m \u001B[49m\u001B[43mconvert\u001B[49m\u001B[38;5;241;43m=\u001B[39;49m\u001B[38;5;28;43mself\u001B[39;49m\u001B[38;5;241;43m.\u001B[39;49m\u001B[43mconvert_dtype\u001B[49m\n\u001B[1;32m   1509\u001B[0m \u001B[43m\u001B[49m\u001B[43m)\u001B[49m\n\u001B[1;32m   1511\u001B[0m \u001B[38;5;28;01mif\u001B[39;00m \u001B[38;5;28mlen\u001B[39m(mapped) \u001B[38;5;129;01mand\u001B[39;00m \u001B[38;5;28misinstance\u001B[39m(mapped[\u001B[38;5;241m0\u001B[39m], ABCSeries):\n\u001B[1;32m   1512\u001B[0m     \u001B[38;5;66;03m# GH#43986 Need to do list(mapped) in order to get treated as nested\u001B[39;00m\n\u001B[1;32m   1513\u001B[0m     \u001B[38;5;66;03m#  See also GH#25959 regarding EA support\u001B[39;00m\n\u001B[1;32m   1514\u001B[0m     \u001B[38;5;28;01mreturn\u001B[39;00m obj\u001B[38;5;241m.\u001B[39m_constructor_expanddim(\u001B[38;5;28mlist\u001B[39m(mapped), index\u001B[38;5;241m=\u001B[39mobj\u001B[38;5;241m.\u001B[39mindex)\n",
      "File \u001B[0;32m~/miniconda3/envs/geonlp/lib/python3.9/site-packages/pandas/core/base.py:921\u001B[0m, in \u001B[0;36mIndexOpsMixin._map_values\u001B[0;34m(self, mapper, na_action, convert)\u001B[0m\n\u001B[1;32m    918\u001B[0m \u001B[38;5;28;01mif\u001B[39;00m \u001B[38;5;28misinstance\u001B[39m(arr, ExtensionArray):\n\u001B[1;32m    919\u001B[0m     \u001B[38;5;28;01mreturn\u001B[39;00m arr\u001B[38;5;241m.\u001B[39mmap(mapper, na_action\u001B[38;5;241m=\u001B[39mna_action)\n\u001B[0;32m--> 921\u001B[0m \u001B[38;5;28;01mreturn\u001B[39;00m \u001B[43malgorithms\u001B[49m\u001B[38;5;241;43m.\u001B[39;49m\u001B[43mmap_array\u001B[49m\u001B[43m(\u001B[49m\u001B[43marr\u001B[49m\u001B[43m,\u001B[49m\u001B[43m \u001B[49m\u001B[43mmapper\u001B[49m\u001B[43m,\u001B[49m\u001B[43m \u001B[49m\u001B[43mna_action\u001B[49m\u001B[38;5;241;43m=\u001B[39;49m\u001B[43mna_action\u001B[49m\u001B[43m,\u001B[49m\u001B[43m \u001B[49m\u001B[43mconvert\u001B[49m\u001B[38;5;241;43m=\u001B[39;49m\u001B[43mconvert\u001B[49m\u001B[43m)\u001B[49m\n",
      "File \u001B[0;32m~/miniconda3/envs/geonlp/lib/python3.9/site-packages/pandas/core/algorithms.py:1743\u001B[0m, in \u001B[0;36mmap_array\u001B[0;34m(arr, mapper, na_action, convert)\u001B[0m\n\u001B[1;32m   1741\u001B[0m values \u001B[38;5;241m=\u001B[39m arr\u001B[38;5;241m.\u001B[39mastype(\u001B[38;5;28mobject\u001B[39m, copy\u001B[38;5;241m=\u001B[39m\u001B[38;5;28;01mFalse\u001B[39;00m)\n\u001B[1;32m   1742\u001B[0m \u001B[38;5;28;01mif\u001B[39;00m na_action \u001B[38;5;129;01mis\u001B[39;00m \u001B[38;5;28;01mNone\u001B[39;00m:\n\u001B[0;32m-> 1743\u001B[0m     \u001B[38;5;28;01mreturn\u001B[39;00m \u001B[43mlib\u001B[49m\u001B[38;5;241;43m.\u001B[39;49m\u001B[43mmap_infer\u001B[49m\u001B[43m(\u001B[49m\u001B[43mvalues\u001B[49m\u001B[43m,\u001B[49m\u001B[43m \u001B[49m\u001B[43mmapper\u001B[49m\u001B[43m,\u001B[49m\u001B[43m \u001B[49m\u001B[43mconvert\u001B[49m\u001B[38;5;241;43m=\u001B[39;49m\u001B[43mconvert\u001B[49m\u001B[43m)\u001B[49m\n\u001B[1;32m   1744\u001B[0m \u001B[38;5;28;01melse\u001B[39;00m:\n\u001B[1;32m   1745\u001B[0m     \u001B[38;5;28;01mreturn\u001B[39;00m lib\u001B[38;5;241m.\u001B[39mmap_infer_mask(\n\u001B[1;32m   1746\u001B[0m         values, mapper, mask\u001B[38;5;241m=\u001B[39misna(values)\u001B[38;5;241m.\u001B[39mview(np\u001B[38;5;241m.\u001B[39muint8), convert\u001B[38;5;241m=\u001B[39mconvert\n\u001B[1;32m   1747\u001B[0m     )\n",
      "File \u001B[0;32mlib.pyx:2972\u001B[0m, in \u001B[0;36mpandas._libs.lib.map_infer\u001B[0;34m()\u001B[0m\n",
      "Cell \u001B[0;32mIn[23], line 7\u001B[0m, in \u001B[0;36mcustom_function\u001B[0;34m(value)\u001B[0m\n\u001B[1;32m      5\u001B[0m \u001B[38;5;28;01mdef\u001B[39;00m \u001B[38;5;21mcustom_function\u001B[39m(value):\n\u001B[1;32m      6\u001B[0m     a \u001B[38;5;241m=\u001B[39m json_normalize(value)\n\u001B[0;32m----> 7\u001B[0m     a[\u001B[38;5;124m\"\u001B[39m\u001B[38;5;124mentities\u001B[39m\u001B[38;5;124m\"\u001B[39m] \u001B[38;5;241m=\u001B[39m \u001B[43ma\u001B[49m\u001B[43m[\u001B[49m\u001B[38;5;124;43m\"\u001B[39;49m\u001B[38;5;124;43mentities\u001B[39;49m\u001B[38;5;124;43m\"\u001B[39;49m\u001B[43m]\u001B[49m\u001B[38;5;241m.\u001B[39mapply(\u001B[38;5;28;01mlambda\u001B[39;00m x: x[\u001B[38;5;241m0\u001B[39m][\u001B[38;5;124m\"\u001B[39m\u001B[38;5;124mgeometry\u001B[39m\u001B[38;5;124m\"\u001B[39m][\u001B[38;5;124m\"\u001B[39m\u001B[38;5;124mcoordinates\u001B[39m\u001B[38;5;124m\"\u001B[39m] \u001B[38;5;28;01mif\u001B[39;00m x \u001B[38;5;28;01melse\u001B[39;00m \u001B[38;5;28;01mNone\u001B[39;00m)\n\u001B[1;32m      8\u001B[0m     a[\u001B[38;5;124m\"\u001B[39m\u001B[38;5;124mentities\u001B[39m\u001B[38;5;124m\"\u001B[39m] \u001B[38;5;241m=\u001B[39m a[\u001B[38;5;124m\"\u001B[39m\u001B[38;5;124mentities\u001B[39m\u001B[38;5;124m\"\u001B[39m]\u001B[38;5;241m.\u001B[39mapply(\u001B[38;5;28;01mlambda\u001B[39;00m x: \u001B[38;5;28mtuple\u001B[39m(x) \u001B[38;5;28;01mif\u001B[39;00m x[\u001B[38;5;241m0\u001B[39m] \u001B[38;5;28;01melse\u001B[39;00m \u001B[38;5;28;01mNone\u001B[39;00m)\n\u001B[1;32m      9\u001B[0m     a \u001B[38;5;241m=\u001B[39m a\u001B[38;5;241m.\u001B[39mrename(columns\u001B[38;5;241m=\u001B[39m{\u001B[38;5;124m\"\u001B[39m\u001B[38;5;124mentities\u001B[39m\u001B[38;5;124m\"\u001B[39m: \u001B[38;5;124m\"\u001B[39m\u001B[38;5;124mcoordinates\u001B[39m\u001B[38;5;124m\"\u001B[39m})\n",
      "File \u001B[0;32m~/miniconda3/envs/geonlp/lib/python3.9/site-packages/pandas/core/frame.py:4090\u001B[0m, in \u001B[0;36mDataFrame.__getitem__\u001B[0;34m(self, key)\u001B[0m\n\u001B[1;32m   4088\u001B[0m \u001B[38;5;28;01mif\u001B[39;00m \u001B[38;5;28mself\u001B[39m\u001B[38;5;241m.\u001B[39mcolumns\u001B[38;5;241m.\u001B[39mnlevels \u001B[38;5;241m>\u001B[39m \u001B[38;5;241m1\u001B[39m:\n\u001B[1;32m   4089\u001B[0m     \u001B[38;5;28;01mreturn\u001B[39;00m \u001B[38;5;28mself\u001B[39m\u001B[38;5;241m.\u001B[39m_getitem_multilevel(key)\n\u001B[0;32m-> 4090\u001B[0m indexer \u001B[38;5;241m=\u001B[39m \u001B[38;5;28;43mself\u001B[39;49m\u001B[38;5;241;43m.\u001B[39;49m\u001B[43mcolumns\u001B[49m\u001B[38;5;241;43m.\u001B[39;49m\u001B[43mget_loc\u001B[49m\u001B[43m(\u001B[49m\u001B[43mkey\u001B[49m\u001B[43m)\u001B[49m\n\u001B[1;32m   4091\u001B[0m \u001B[38;5;28;01mif\u001B[39;00m is_integer(indexer):\n\u001B[1;32m   4092\u001B[0m     indexer \u001B[38;5;241m=\u001B[39m [indexer]\n",
      "File \u001B[0;32m~/miniconda3/envs/geonlp/lib/python3.9/site-packages/pandas/core/indexes/range.py:417\u001B[0m, in \u001B[0;36mRangeIndex.get_loc\u001B[0;34m(self, key)\u001B[0m\n\u001B[1;32m    415\u001B[0m         \u001B[38;5;28;01mraise\u001B[39;00m \u001B[38;5;167;01mKeyError\u001B[39;00m(key) \u001B[38;5;28;01mfrom\u001B[39;00m \u001B[38;5;21;01merr\u001B[39;00m\n\u001B[1;32m    416\u001B[0m \u001B[38;5;28;01mif\u001B[39;00m \u001B[38;5;28misinstance\u001B[39m(key, Hashable):\n\u001B[0;32m--> 417\u001B[0m     \u001B[38;5;28;01mraise\u001B[39;00m \u001B[38;5;167;01mKeyError\u001B[39;00m(key)\n\u001B[1;32m    418\u001B[0m \u001B[38;5;28mself\u001B[39m\u001B[38;5;241m.\u001B[39m_check_indexing_error(key)\n\u001B[1;32m    419\u001B[0m \u001B[38;5;28;01mraise\u001B[39;00m \u001B[38;5;167;01mKeyError\u001B[39;00m(key)\n",
      "\u001B[0;31mKeyError\u001B[0m: 'entities'"
     ]
    }
   ],
   "source": [],
   "metadata": {
    "collapsed": false,
    "ExecuteTime": {
     "end_time": "2024-03-07T05:41:41.769248Z",
     "start_time": "2024-03-07T05:41:38.933016Z"
    }
   },
   "id": "d305fae41aba624f",
   "execution_count": 23
  },
  {
   "cell_type": "code",
   "outputs": [
    {
     "name": "stdout",
     "output_type": "stream",
     "text": [
      "   A  C   D\n",
      "0  a  2   4\n",
      "1  a  3   5\n",
      "2  b  4   8\n",
      "3  b  6  10\n",
      "4  c  6  12\n",
      "5  c  9  15\n"
     ]
    }
   ],
   "source": [
    "import pandas as pd\n",
    "\n",
    "# Sample DataFrame\n",
    "df = pd.DataFrame({'A': [\"a\", \"b\", \"c\"],\n",
    "                   'B': [1, 2, 3]})\n",
    "\n",
    "# Custom function that returns a DataFrame\n",
    "def custom_function(value):\n",
    "    return pd.DataFrame({'C': [value * 2, value * 3],\n",
    "                         'D': [value * 4, value * 5]})\n",
    "\n",
    "# Apply the function to column 'A' using the apply method\n",
    "result = df['B'].apply(custom_function)\n",
    "\n",
    "a_df = df['A'].apply(lambda a: [a]*2).explode(\"A\")\n",
    "\n",
    "# Concatenate the resulting DataFrames\n",
    "result = pd.concat([result[i] for i in range(len(result))], axis=0).reset_index(drop=True)\n",
    "result = pd.concat([a_df,result], axis=1)\n",
    "\n",
    "print(result)"
   ],
   "metadata": {
    "collapsed": false,
    "ExecuteTime": {
     "end_time": "2024-03-07T05:33:16.094394Z",
     "start_time": "2024-03-07T05:33:16.075119Z"
    }
   },
   "id": "6a5b3540d81df14b",
   "execution_count": 22
  },
  {
   "cell_type": "code",
   "outputs": [],
   "source": [
    "import pandas as pd\n",
    "from pandas import json_normalize\n",
    "\n",
    "df = pd.read_json(\"../data/LRE_corpus/LRE_corpus-0.1/corpora.json\", lines=True)"
   ],
   "metadata": {
    "collapsed": false,
    "ExecuteTime": {
     "end_time": "2024-03-07T06:10:02.141625Z",
     "start_time": "2024-03-07T06:10:02.037051Z"
    }
   },
   "id": "45f00d9880a9c7f4",
   "execution_count": 6
  },
  {
   "cell_type": "code",
   "outputs": [
    {
     "data": {
      "text/plain": "                  id_str lre_annotation\n0     527760967652749312             []\n1     527007061029056512             []\n2     528154012315426816             []\n3     528220003691024384             []\n4     526282301366226944             []\n...                  ...            ...\n9995  507167181210017792             []\n9996  529628482158878720             []\n9997  528209131945984000             []\n9998  521454722234851328             []\n9999  527799380653273088             []\n\n[10000 rows x 2 columns]",
      "text/html": "<div>\n<style scoped>\n    .dataframe tbody tr th:only-of-type {\n        vertical-align: middle;\n    }\n\n    .dataframe tbody tr th {\n        vertical-align: top;\n    }\n\n    .dataframe thead th {\n        text-align: right;\n    }\n</style>\n<table border=\"1\" class=\"dataframe\">\n  <thead>\n    <tr style=\"text-align: right;\">\n      <th></th>\n      <th>id_str</th>\n      <th>lre_annotation</th>\n    </tr>\n  </thead>\n  <tbody>\n    <tr>\n      <th>0</th>\n      <td>527760967652749312</td>\n      <td>[]</td>\n    </tr>\n    <tr>\n      <th>1</th>\n      <td>527007061029056512</td>\n      <td>[]</td>\n    </tr>\n    <tr>\n      <th>2</th>\n      <td>528154012315426816</td>\n      <td>[]</td>\n    </tr>\n    <tr>\n      <th>3</th>\n      <td>528220003691024384</td>\n      <td>[]</td>\n    </tr>\n    <tr>\n      <th>4</th>\n      <td>526282301366226944</td>\n      <td>[]</td>\n    </tr>\n    <tr>\n      <th>...</th>\n      <td>...</td>\n      <td>...</td>\n    </tr>\n    <tr>\n      <th>9995</th>\n      <td>507167181210017792</td>\n      <td>[]</td>\n    </tr>\n    <tr>\n      <th>9996</th>\n      <td>529628482158878720</td>\n      <td>[]</td>\n    </tr>\n    <tr>\n      <th>9997</th>\n      <td>528209131945984000</td>\n      <td>[]</td>\n    </tr>\n    <tr>\n      <th>9998</th>\n      <td>521454722234851328</td>\n      <td>[]</td>\n    </tr>\n    <tr>\n      <th>9999</th>\n      <td>527799380653273088</td>\n      <td>[]</td>\n    </tr>\n  </tbody>\n</table>\n<p>10000 rows × 2 columns</p>\n</div>"
     },
     "execution_count": 7,
     "metadata": {},
     "output_type": "execute_result"
    }
   ],
   "source": [
    "df"
   ],
   "metadata": {
    "collapsed": false,
    "ExecuteTime": {
     "end_time": "2024-03-07T06:10:03.202295Z",
     "start_time": "2024-03-07T06:10:03.190353Z"
    }
   },
   "id": "6031cdd2e7ef696d",
   "execution_count": 7
  },
  {
   "cell_type": "code",
   "outputs": [],
   "source": [
    "\n",
    "\n",
    "def custom_function(value):\n",
    "    if not value:\n",
    "        return None\n",
    "    # print(value)\n",
    "    a = json_normalize(value)\n",
    "    # print(a)\n",
    "    a[\"entities\"] = a[\"entities\"].apply(lambda x: x[0][\"geometry\"][\"coordinates\"] if x else None)\n",
    "    a[\"entities\"] = a[\"entities\"].apply(lambda x: tuple(x) if x and x[0] else None)\n",
    "    a = a.rename(columns={\"entities\": \"coordinates\"})\n",
    "    return a\n",
    "\n",
    "result = df['lre_annotation'].apply(custom_function)\n"
   ],
   "metadata": {
    "collapsed": false,
    "ExecuteTime": {
     "end_time": "2024-03-07T06:10:11.055191Z",
     "start_time": "2024-03-07T06:10:09.728415Z"
    }
   },
   "id": "c27f81dcb1460665",
   "execution_count": 8
  },
  {
   "cell_type": "code",
   "outputs": [
    {
     "data": {
      "text/plain": "      start  end surface       note    entityClass            coordinates\n0        19   24   ファミレス                   generic                   None\n1         6   11   MOVIX                  facility                   None\n2        24   26      利府                  location  (140.97684, 38.33084)\n3        34   39   MOVIX                  facility                   None\n4        19   21      お店  複数の特定不能店舗  facility-UNSP                   None\n...     ...  ...     ...        ...            ...                    ...\n1039     22   23       泉             location-UNSP                   None\n1040      0    3     アキバ                  facility                   None\n1041      7   12   ラーメン屋             facility-UNSP                   None\n1042     33   36     森ビル                  facility                   None\n1043      5    8     南大高                  facility                   None\n\n[1044 rows x 6 columns]",
      "text/html": "<div>\n<style scoped>\n    .dataframe tbody tr th:only-of-type {\n        vertical-align: middle;\n    }\n\n    .dataframe tbody tr th {\n        vertical-align: top;\n    }\n\n    .dataframe thead th {\n        text-align: right;\n    }\n</style>\n<table border=\"1\" class=\"dataframe\">\n  <thead>\n    <tr style=\"text-align: right;\">\n      <th></th>\n      <th>start</th>\n      <th>end</th>\n      <th>surface</th>\n      <th>note</th>\n      <th>entityClass</th>\n      <th>coordinates</th>\n    </tr>\n  </thead>\n  <tbody>\n    <tr>\n      <th>0</th>\n      <td>19</td>\n      <td>24</td>\n      <td>ファミレス</td>\n      <td></td>\n      <td>generic</td>\n      <td>None</td>\n    </tr>\n    <tr>\n      <th>1</th>\n      <td>6</td>\n      <td>11</td>\n      <td>MOVIX</td>\n      <td></td>\n      <td>facility</td>\n      <td>None</td>\n    </tr>\n    <tr>\n      <th>2</th>\n      <td>24</td>\n      <td>26</td>\n      <td>利府</td>\n      <td></td>\n      <td>location</td>\n      <td>(140.97684, 38.33084)</td>\n    </tr>\n    <tr>\n      <th>3</th>\n      <td>34</td>\n      <td>39</td>\n      <td>MOVIX</td>\n      <td></td>\n      <td>facility</td>\n      <td>None</td>\n    </tr>\n    <tr>\n      <th>4</th>\n      <td>19</td>\n      <td>21</td>\n      <td>お店</td>\n      <td>複数の特定不能店舗</td>\n      <td>facility-UNSP</td>\n      <td>None</td>\n    </tr>\n    <tr>\n      <th>...</th>\n      <td>...</td>\n      <td>...</td>\n      <td>...</td>\n      <td>...</td>\n      <td>...</td>\n      <td>...</td>\n    </tr>\n    <tr>\n      <th>1039</th>\n      <td>22</td>\n      <td>23</td>\n      <td>泉</td>\n      <td></td>\n      <td>location-UNSP</td>\n      <td>None</td>\n    </tr>\n    <tr>\n      <th>1040</th>\n      <td>0</td>\n      <td>3</td>\n      <td>アキバ</td>\n      <td></td>\n      <td>facility</td>\n      <td>None</td>\n    </tr>\n    <tr>\n      <th>1041</th>\n      <td>7</td>\n      <td>12</td>\n      <td>ラーメン屋</td>\n      <td></td>\n      <td>facility-UNSP</td>\n      <td>None</td>\n    </tr>\n    <tr>\n      <th>1042</th>\n      <td>33</td>\n      <td>36</td>\n      <td>森ビル</td>\n      <td></td>\n      <td>facility</td>\n      <td>None</td>\n    </tr>\n    <tr>\n      <th>1043</th>\n      <td>5</td>\n      <td>8</td>\n      <td>南大高</td>\n      <td></td>\n      <td>facility</td>\n      <td>None</td>\n    </tr>\n  </tbody>\n</table>\n<p>1044 rows × 6 columns</p>\n</div>"
     },
     "execution_count": 9,
     "metadata": {},
     "output_type": "execute_result"
    }
   ],
   "source": [
    "\n",
    "# Concatenate the resulting DataFrames\n",
    "result = pd.concat([result[i] for i in range(len(result))], axis=0).reset_index(drop=True)\n",
    "\n",
    "result"
   ],
   "metadata": {
    "collapsed": false,
    "ExecuteTime": {
     "end_time": "2024-03-07T06:10:12.597134Z",
     "start_time": "2024-03-07T06:10:12.499673Z"
    }
   },
   "id": "e2b2c02ef597f0a3",
   "execution_count": 9
  },
  {
   "cell_type": "code",
   "outputs": [
    {
     "data": {
      "text/plain": "299.0"
     },
     "execution_count": 11,
     "metadata": {},
     "output_type": "execute_result"
    }
   ],
   "source": [
    "# proportion of results with non-null coordinates\n",
    "result.coordinates.apply(lambda x: x is not None).mean()*len(result)"
   ],
   "metadata": {
    "collapsed": false
   },
   "id": "58227f58dc95dc8c",
   "execution_count": 11
  },
  {
   "cell_type": "code",
   "outputs": [],
   "source": [],
   "metadata": {
    "collapsed": false
   },
   "id": "9f2990c05e406adc"
  }
 ],
 "metadata": {
  "kernelspec": {
   "display_name": "Python 3",
   "language": "python",
   "name": "python3"
  },
  "language_info": {
   "codemirror_mode": {
    "name": "ipython",
    "version": 2
   },
   "file_extension": ".py",
   "mimetype": "text/x-python",
   "name": "python",
   "nbconvert_exporter": "python",
   "pygments_lexer": "ipython2",
   "version": "2.7.6"
  }
 },
 "nbformat": 4,
 "nbformat_minor": 5
}
