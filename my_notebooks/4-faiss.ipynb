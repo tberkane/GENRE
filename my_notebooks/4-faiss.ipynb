{
 "cells": [
  {
   "cell_type": "code",
   "execution_count": 1,
   "id": "31ba7e20-ea2e-428e-8d25-e5e55c5ee3a2",
   "metadata": {
    "ExecuteTime": {
     "end_time": "2024-03-14T06:09:42.555956Z",
     "start_time": "2024-03-14T06:09:36.757230Z"
    }
   },
   "outputs": [],
   "source": [
    "import numpy as np\n",
    "d = 768                           # dimension\n",
    "nb = 1_000_000                      # database size\n",
    "nq = 10                       # nb of queries\n",
    "np.random.seed(1234)             # make reproducible\n",
    "xb = np.random.random((nb, d)).astype('float32')\n",
    "xb[:, 0] += np.arange(nb) / 1000.\n",
    "xq = np.random.random((nq, d)).astype('float32')\n",
    "xq[:, 0] += np.arange(nq) / 1000."
   ]
  },
  {
   "cell_type": "code",
   "execution_count": 2,
   "id": "fb97f738-01d8-483d-a098-a7923bd56642",
   "metadata": {
    "ExecuteTime": {
     "end_time": "2024-03-14T06:09:45.102977Z",
     "start_time": "2024-03-14T06:09:43.868593Z"
    }
   },
   "outputs": [
    {
     "name": "stdout",
     "output_type": "stream",
     "text": [
      "True\n",
      "1000000\n"
     ]
    }
   ],
   "source": [
    "import faiss                   # make faiss available\n",
    "index = faiss.IndexFlatL2(d)   # build the index\n",
    "print(index.is_trained)\n",
    "index.add(xb)                  # add vectors to the index\n",
    "print(index.ntotal)"
   ]
  },
  {
   "cell_type": "code",
   "execution_count": 3,
   "id": "ec3d9e39-6b89-46b8-810e-13d34f5fdc47",
   "metadata": {
    "ExecuteTime": {
     "end_time": "2024-03-14T06:09:47.502895Z",
     "start_time": "2024-03-14T06:09:46.661978Z"
    }
   },
   "outputs": [
    {
     "name": "stdout",
     "output_type": "stream",
     "text": [
      "[[   0   64  802  403]\n",
      " [   1  529   23 1013]\n",
      " [   2  295 1736  336]\n",
      " [   3  193   94 1152]\n",
      " [   4 2081   20 1495]]\n",
      "[[  0.       115.78073  116.944664 117.295944]\n",
      " [  0.       109.616135 111.056984 113.481445]\n",
      " [  0.       112.658844 115.38965  116.00951 ]\n",
      " [  0.       113.80682  116.79196  116.82472 ]\n",
      " [  0.       110.88393  111.97954  112.40068 ]]\n",
      "[[ 274  719 2145  472]\n",
      " [ 298  634  938  206]\n",
      " [ 299  447  979  652]\n",
      " [ 395  548  111  715]\n",
      " [ 284 1789  409  247]]\n",
      "[[ 369  587  312 1715]\n",
      " [1309   39  529   34]\n",
      " [ 223  191  634  944]\n",
      " [ 579  772  777  391]\n",
      " [1495  731  507 2457]]\n"
     ]
    }
   ],
   "source": [
    "k = 4                          # we want to see 4 nearest neighbors\n",
    "D, I = index.search(xb[:5], k) # sanity check\n",
    "print(I)\n",
    "print(D)\n",
    "D, I = index.search(xq, k)     # actual search\n",
    "print(I[:5])                   # neighbors of the 5 first queries\n",
    "print(I[-5:]) "
   ]
  },
  {
   "cell_type": "markdown",
   "source": [
    "# Apply to geocoding"
   ],
   "metadata": {
    "collapsed": false
   },
   "id": "10d87269af2270a2"
  },
  {
   "cell_type": "code",
   "outputs": [],
   "source": [
    "import torch\n",
    "\n",
    "def get_entity_embedding(entity: str):\n",
    "    input = tokenizer(entity, return_tensors=\"pt\")\n",
    "    with torch.no_grad():\n",
    "        output = model(**input)\n",
    "    embeddings = output.last_hidden_state\n",
    "    entity_embedding = embeddings.mean(dim=1)\n",
    "    return entity_embedding"
   ],
   "metadata": {
    "collapsed": false,
    "ExecuteTime": {
     "end_time": "2024-03-14T06:55:36.694993Z",
     "start_time": "2024-03-14T06:55:36.691960Z"
    }
   },
   "id": "d96835c3755aa7fd",
   "execution_count": 35
  },
  {
   "cell_type": "code",
   "outputs": [],
   "source": [
    "import xml.etree.ElementTree as ET\n",
    "from transformers import AutoTokenizer, AutoModel\n",
    "import numpy as np\n",
    "embeddings = []\n",
    "node_info = []\n",
    "tokenizer = AutoTokenizer.from_pretrained(\"tohoku-nlp/bert-base-japanese-whole-word-masking\")\n",
    "model = AutoModel.from_pretrained(\"tohoku-nlp/bert-base-japanese-whole-word-masking\")\n",
    "\n",
    "input_file = \"../data/nodes_with_names_no_duplicates.osm\"\n",
    "tree = ET.parse(input_file)"
   ],
   "metadata": {
    "collapsed": false,
    "ExecuteTime": {
     "end_time": "2024-03-14T06:55:36.690619Z",
     "start_time": "2024-03-14T06:55:23.776806Z"
    }
   },
   "id": "b06cf57b85d16f5b",
   "execution_count": 34
  },
  {
   "cell_type": "code",
   "outputs": [],
   "source": [
    "\n",
    "def func():\n",
    "    root = tree.getroot()\n",
    "    i = 0\n",
    "    for node in root.findall('node'):\n",
    "        node_info.append(node)\n",
    "        name = node.find('tag[@k=\"name\"]').attrib.get('v', '')\n",
    "        embedding = get_entity_embedding(name)[0]\n",
    "        normalized_embedding = embedding.numpy() / np.linalg.norm(embedding)\n",
    "        embeddings.append(normalized_embedding)\n",
    "        i += 1\n",
    "        if i % 10_000 == 0:\n",
    "            print(i)\n",
    "        # if i==400:\n",
    "        #     break\n",
    "func()"
   ],
   "metadata": {
    "collapsed": false,
    "is_executing": true,
    "ExecuteTime": {
     "start_time": "2024-03-14T06:55:42.933284Z"
    }
   },
   "id": "318206e5aa30e6c6",
   "execution_count": null
  },
  {
   "cell_type": "code",
   "outputs": [],
   "source": [
    "embeddings = np.array(embeddings)"
   ],
   "metadata": {
    "collapsed": false,
    "ExecuteTime": {
     "end_time": "2024-03-14T06:49:21.994272Z",
     "start_time": "2024-03-14T06:49:21.991622Z"
    }
   },
   "id": "54924829b75c5921",
   "execution_count": 16
  },
  {
   "cell_type": "code",
   "outputs": [],
   "source": [
    "# save to pkl\n",
    "import pickle\n",
    "with open(\"../data/embeddings.pkl\", \"wb\") as f:\n",
    "    pickle.dump(embeddings, f)\n",
    "with open(\"../data/node_info.pkl\", \"wb\") as f:\n",
    "    pickle.dump(node_info, f)"
   ],
   "metadata": {
    "collapsed": false
   },
   "id": "2847ac65660ab689"
  },
  {
   "cell_type": "code",
   "outputs": [],
   "source": [
    "# import line_profiler\n",
    "# \n",
    "# \n",
    "# \n",
    "# profiler = line_profiler.LineProfiler()\n",
    "# profiler.add_function(func)\n",
    "# profiler.run('func()')\n",
    "# profiler.print_stats()"
   ],
   "metadata": {
    "collapsed": false,
    "ExecuteTime": {
     "end_time": "2024-03-14T06:49:22.299613Z",
     "start_time": "2024-03-14T06:49:22.297340Z"
    }
   },
   "id": "ed3479444a5d01bb",
   "execution_count": 17
  },
  {
   "cell_type": "code",
   "outputs": [
    {
     "name": "stdout",
     "output_type": "stream",
     "text": [
      "True\n",
      "16\n"
     ]
    }
   ],
   "source": [
    "import faiss                   # make faiss available\n",
    "d = 768\n",
    "index = faiss.IndexFlatIP(d)   # build the index\n",
    "print(index.is_trained)\n",
    "index.add(embeddings)                  # add vectors to the index\n",
    "print(index.ntotal)"
   ],
   "metadata": {
    "collapsed": false,
    "ExecuteTime": {
     "end_time": "2024-03-14T06:49:24.198403Z",
     "start_time": "2024-03-14T06:49:24.193955Z"
    }
   },
   "id": "5c3003d791268ac8",
   "execution_count": 18
  },
  {
   "cell_type": "code",
   "outputs": [],
   "source": [
    "node_names = [node.find('tag[@k=\"name\"]').attrib.get('v', '') for node in node_info]"
   ],
   "metadata": {
    "collapsed": false,
    "ExecuteTime": {
     "end_time": "2024-03-14T06:50:15.241854Z",
     "start_time": "2024-03-14T06:50:15.239428Z"
    }
   },
   "id": "f09e59046126e404",
   "execution_count": 20
  },
  {
   "cell_type": "code",
   "outputs": [],
   "source": [
    "entity = \"台場\"\n",
    "entity_embedding = get_entity_embedding(entity)\n",
    "entity_embedding = entity_embedding.numpy() / np.linalg.norm(entity_embedding)"
   ],
   "metadata": {
    "collapsed": false,
    "ExecuteTime": {
     "end_time": "2024-03-14T06:54:44.033559Z",
     "start_time": "2024-03-14T06:54:44.001231Z"
    }
   },
   "id": "35eeac6e45af79dc",
   "execution_count": 31
  },
  {
   "cell_type": "code",
   "outputs": [
    {
     "name": "stdout",
     "output_type": "stream",
     "text": [
      "[[ 0 15  1]]\n",
      "[[0.9999999  0.82408404 0.81893873]]\n"
     ]
    }
   ],
   "source": [
    "k = 3 \n",
    "D, I = index.search(entity_embedding, k) \n",
    "print(I)\n",
    "print(D)"
   ],
   "metadata": {
    "collapsed": false,
    "ExecuteTime": {
     "end_time": "2024-03-14T06:54:44.120031Z",
     "start_time": "2024-03-14T06:54:44.116261Z"
    }
   },
   "id": "c4fa9201b6340ad4",
   "execution_count": 32
  },
  {
   "cell_type": "code",
   "outputs": [
    {
     "name": "stdout",
     "output_type": "stream",
     "text": [
      "台場: 0.9999998807907104\n",
      "新橋: 0.8240840435028076\n",
      "芝浦ふ頭: 0.8189387321472168\n"
     ]
    }
   ],
   "source": [
    "# print names and similarities\n",
    "for i in range(k):\n",
    "    print(f\"{node_names[I[0][i]]}: {D[0][i]}\")\n",
    "    "
   ],
   "metadata": {
    "collapsed": false,
    "ExecuteTime": {
     "end_time": "2024-03-14T06:54:44.731764Z",
     "start_time": "2024-03-14T06:54:44.728968Z"
    }
   },
   "id": "6c8fd0142c7e8fd3",
   "execution_count": 33
  },
  {
   "cell_type": "code",
   "outputs": [],
   "source": [],
   "metadata": {
    "collapsed": false
   },
   "id": "75a25897a6048e96"
  }
 ],
 "metadata": {
  "kernelspec": {
   "display_name": "Python 3 (ipykernel)",
   "language": "python",
   "name": "python3"
  },
  "language_info": {
   "codemirror_mode": {
    "name": "ipython",
    "version": 3
   },
   "file_extension": ".py",
   "mimetype": "text/x-python",
   "name": "python",
   "nbconvert_exporter": "python",
   "pygments_lexer": "ipython3",
   "version": "3.9.18"
  }
 },
 "nbformat": 4,
 "nbformat_minor": 5
}
