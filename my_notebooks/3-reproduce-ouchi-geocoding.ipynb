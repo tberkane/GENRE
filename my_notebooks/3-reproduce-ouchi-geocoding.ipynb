{
 "cells": [
  {
   "cell_type": "code",
   "outputs": [
    {
     "name": "stderr",
     "output_type": "stream",
     "text": [
      "/home/thomas/miniconda3/envs/geonlp/lib/python3.9/site-packages/transformers/utils/generic.py:441: UserWarning: torch.utils._pytree._register_pytree_node is deprecated. Please use torch.utils._pytree.register_pytree_node instead.\n",
      "  _torch_pytree._register_pytree_node(\n",
      "/home/thomas/miniconda3/envs/geonlp/lib/python3.9/site-packages/transformers/utils/generic.py:309: UserWarning: torch.utils._pytree._register_pytree_node is deprecated. Please use torch.utils._pytree.register_pytree_node instead.\n",
      "  _torch_pytree._register_pytree_node(\n"
     ]
    }
   ],
   "source": [
    "from transformers import pipeline, AutoTokenizer, AutoModel\n",
    "\n",
    "tokenizer = AutoTokenizer.from_pretrained(\"tohoku-nlp/bert-base-japanese-whole-word-masking\")\n",
    "model = AutoModel.from_pretrained(\"tohoku-nlp/bert-base-japanese-whole-word-masking\")"
   ],
   "metadata": {
    "collapsed": false,
    "ExecuteTime": {
     "end_time": "2024-03-11T08:47:24.410906Z",
     "start_time": "2024-03-11T08:47:22.857403Z"
    }
   },
   "id": "d1a8e8771084c764",
   "execution_count": 4
  },
  {
   "cell_type": "code",
   "outputs": [],
   "source": [
    "entity = \"東大\""
   ],
   "metadata": {
    "collapsed": false,
    "ExecuteTime": {
     "end_time": "2024-03-11T08:48:15.791238Z",
     "start_time": "2024-03-11T08:48:15.788259Z"
    }
   },
   "id": "a106fff9af77c9c8",
   "execution_count": 10
  },
  {
   "cell_type": "code",
   "outputs": [],
   "source": [
    "import torch\n",
    "\n",
    "\n",
    "def get_entity_embedding(entity: str):\n",
    "    input = tokenizer(entity, return_tensors=\"pt\")\n",
    "    with torch.no_grad():\n",
    "        output = model(**input)\n",
    "    embeddings = output.last_hidden_state\n",
    "    entity_embedding = embeddings.mean(dim=1)\n",
    "    return entity_embedding"
   ],
   "metadata": {
    "collapsed": false,
    "ExecuteTime": {
     "end_time": "2024-03-11T08:47:25.601528Z",
     "start_time": "2024-03-11T08:47:25.598401Z"
    }
   },
   "id": "e8a22ece104d613c",
   "execution_count": 6
  },
  {
   "cell_type": "code",
   "outputs": [],
   "source": [
    "entity_embedding = get_entity_embedding(entity)"
   ],
   "metadata": {
    "collapsed": false,
    "ExecuteTime": {
     "end_time": "2024-03-11T08:48:28.122070Z",
     "start_time": "2024-03-11T08:48:28.103899Z"
    }
   },
   "id": "795a88d506085cbe",
   "execution_count": 11
  },
  {
   "cell_type": "code",
   "outputs": [],
   "source": [
    "tokyo_embedding = get_entity_embedding(\"東京\")\n",
    "kyoto_embedding = get_entity_embedding(\"京都\")\n",
    "nara_embedding = get_entity_embedding(\"奈良\")"
   ],
   "metadata": {
    "collapsed": false,
    "ExecuteTime": {
     "end_time": "2024-03-11T08:48:36.202806Z",
     "start_time": "2024-03-11T08:48:36.147809Z"
    }
   },
   "id": "a9254df3cab7e9d3",
   "execution_count": 13
  },
  {
   "cell_type": "code",
   "outputs": [
    {
     "name": "stdout",
     "output_type": "stream",
     "text": [
      "[[0.7894262]]\n",
      "[[0.8048662]]\n",
      "[[0.8820897]]\n"
     ]
    }
   ],
   "source": [
    "from sklearn.metrics.pairwise import cosine_similarity\n",
    "print(cosine_similarity(entity_embedding, kyoto_embedding))\n",
    "print(cosine_similarity(entity_embedding, nara_embedding))\n",
    "print(cosine_similarity(entity_embedding, tokyo_embedding))"
   ],
   "metadata": {
    "collapsed": false,
    "ExecuteTime": {
     "end_time": "2024-03-11T08:48:36.508956Z",
     "start_time": "2024-03-11T08:48:36.503459Z"
    }
   },
   "id": "f4d708cf93c7a7dc",
   "execution_count": 14
  },
  {
   "cell_type": "code",
   "outputs": [],
   "source": [],
   "metadata": {
    "collapsed": false
   },
   "id": "26593e3670163c6a"
  }
 ],
 "metadata": {
  "kernelspec": {
   "display_name": "Python 3",
   "language": "python",
   "name": "python3"
  },
  "language_info": {
   "codemirror_mode": {
    "name": "ipython",
    "version": 2
   },
   "file_extension": ".py",
   "mimetype": "text/x-python",
   "name": "python",
   "nbconvert_exporter": "python",
   "pygments_lexer": "ipython2",
   "version": "2.7.6"
  }
 },
 "nbformat": 4,
 "nbformat_minor": 5
}
